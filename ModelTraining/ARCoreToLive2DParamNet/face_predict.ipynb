{
 "cells": [
  {
   "cell_type": "markdown",
   "metadata": {},
   "source": [
    "## Read training data"
   ]
  },
  {
   "cell_type": "code",
   "execution_count": null,
   "metadata": {},
   "outputs": [],
   "source": [
    "%matplotlib inline\n",
    "import numpy as np\n",
    "import pandas as pd\n",
    "\n",
    "train_mouth = True\n",
    "train_smile = True\n",
    "train_brows = True\n",
    "\n",
    "\n",
    "\n",
    "# Params:\n",
    "#   - datafr:      Dataframe to add to.\n",
    "#   - fname:       Name of CSV file\n",
    "#   - target:      Target value\n",
    "#   - add_target:  If true, target value from CSV is overwritten\n",
    "def read_and_add(datafr, fname, target, add_target):\n",
    "    df_temp = pd.read_csv(\"training_data/\" + fname + \".csv\")\n",
    "    if (add_target == True):\n",
    "        df_temp['target'] = target \n",
    "    df_temp = df_temp.dropna(how='any')\n",
    "    return datafr.append(df_temp, ignore_index=True)\n",
    "\n",
    "# Read mouth open/close training data.\n",
    "df_mouth = pd.DataFrame();\n",
    "df_mouth = read_and_add(df_mouth, \"mouth_0.0\", 0.0, True)\n",
    "df_mouth = read_and_add(df_mouth, \"mouth_0.2\", 0.2, True)\n",
    "df_mouth = read_and_add(df_mouth, \"mouth_0.4\", 0.4, True)\n",
    "df_mouth = read_and_add(df_mouth, \"mouth_0.6\", 0.6, True)\n",
    "df_mouth = read_and_add(df_mouth, \"mouth_0.8\", 0.8, True)\n",
    "df_mouth = read_and_add(df_mouth, \"mouth_1.0\", 1.0, True)\n",
    "\n",
    "# Read smile/frown training data.\n",
    "df_smile = pd.DataFrame();\n",
    "df_smile = read_and_add(df_smile, \"smile_0.0\", 0.0, False)\n",
    "df_smile = read_and_add(df_smile, \"smile_1.0\", 1.0, False)\n",
    "\n",
    "# Read brows up/down training data.\n",
    "df_brows = pd.DataFrame();\n",
    "df_brows = read_and_add(df_brows, \"brows_0.0\", 0.0, False)\n",
    "df_brows = read_and_add(df_brows, \"brows_0.5\", 0.5, False)\n",
    "df_brows = read_and_add(df_brows, \"brows_1.0\", 1.0, False)\n",
    "\n",
    "df_mouth.tail(10)"
   ]
  },
  {
   "cell_type": "markdown",
   "metadata": {},
   "source": [
    "## Summary of data"
   ]
  },
  {
   "cell_type": "code",
   "execution_count": null,
   "metadata": {},
   "outputs": [],
   "source": [
    "print(df_mouth.describe())"
   ]
  },
  {
   "cell_type": "markdown",
   "metadata": {},
   "source": [
    "## Train/Test split"
   ]
  },
  {
   "cell_type": "code",
   "execution_count": null,
   "metadata": {},
   "outputs": [],
   "source": [
    "import numpy\n",
    "import sklearn\n",
    "from sklearn.model_selection import train_test_split\n",
    "\n",
    "features_mouth = df_mouth.iloc[:, : 468]\n",
    "features_smile = df_smile.iloc[:, : 468]\n",
    "features_brows = df_brows.iloc[:, : 468]\n",
    "\n",
    "targets_mouth = df_mouth['target'].values \n",
    "targets_smile = df_smile['target'].values \n",
    "targets_brows = df_brows['target'].values \n",
    "\n",
    "x_train_mouth, x_test_mouth, y_train_mouth, y_test_mouth = train_test_split(features_mouth, targets_mouth, train_size=0.8, random_state=3)\n",
    "x_train_smile, x_test_smile, y_train_smile, y_test_smile = train_test_split(features_smile, targets_smile, train_size=0.8, random_state=3)\n",
    "x_train_brows, x_test_brows, y_train_brows, y_test_brows = train_test_split(features_brows, targets_brows, train_size=0.8, random_state=3)\n",
    "\n",
    "print (targets_mouth)\n",
    "print (targets_smile)\n",
    "print (targets_brows)"
   ]
  },
  {
   "cell_type": "markdown",
   "metadata": {},
   "source": [
    "## Model setup"
   ]
  },
  {
   "cell_type": "code",
   "execution_count": null,
   "metadata": {},
   "outputs": [],
   "source": [
    "import tensorflow as tf\n",
    "import keras\n",
    "\n",
    "from tensorflow import keras\n",
    "from tensorflow.keras.datasets import mnist\n",
    "from tensorflow.keras.models import Sequential\n",
    "from tensorflow.keras.layers import Dense, Dropout\n",
    "from tensorflow.keras.optimizers import RMSprop\n",
    "from tensorflow.keras import optimizers\n",
    "\n",
    "config = tf.ConfigProto()\n",
    "config.gpu_options.allow_growth = True\n",
    "sess = tf.Session(config=config)"
   ]
  },
  {
   "cell_type": "markdown",
   "metadata": {},
   "source": [
    "Setting the model's layers. 468 facial features as returned by ARCore.\n"
   ]
  },
  {
   "cell_type": "code",
   "execution_count": null,
   "metadata": {},
   "outputs": [],
   "source": [
    "model = Sequential()\n",
    "model.add(Dense(64, activation='relu', input_shape=(468,)))\n",
    "model.add(Dropout(0.05))\n",
    "model.add(Dense(128, activation='relu'))\n",
    "model.add(Dropout(0.05))\n",
    "model.add(Dense(1, activation='linear'))\n",
    "\n",
    "model_mouth = model\n",
    "model_smile = model\n",
    "model_brows = model"
   ]
  },
  {
   "cell_type": "code",
   "execution_count": null,
   "metadata": {},
   "outputs": [],
   "source": [
    "# Print model summary.\n",
    "model.summary()\n",
    "\n",
    "# Draw model graph.\n",
    "# from keras.utils import plot_model\n",
    "# plot_model(model, to_file='model.png', show_shapes=True)"
   ]
  },
  {
   "cell_type": "code",
   "execution_count": null,
   "metadata": {},
   "outputs": [],
   "source": [
    "model.compile(loss='mse',\n",
    "              optimizer='Adam',\n",
    "              metrics=['mse','mae'])"
   ]
  },
  {
   "cell_type": "markdown",
   "metadata": {},
   "source": [
    "## Model training"
   ]
  },
  {
   "cell_type": "code",
   "execution_count": null,
   "metadata": {},
   "outputs": [],
   "source": [
    "import time\n",
    "\n",
    "# 256 is a good value\n",
    "train_epochs = 256\n",
    "# 128 is a good value\n",
    "train_batch_size = 128\n",
    "\n",
    "if train_mouth:\n",
    "    start = time.time()\n",
    "    history_mouth = model_mouth.fit(x_train_mouth, y_train_mouth,\n",
    "                        batch_size=train_batch_size,\n",
    "                        epochs=train_epochs,\n",
    "                        validation_data=(x_test_mouth, y_test_mouth))\n",
    "    model_mouth.evaluate(x_test_mouth, y_test_mouth, verbose=1)\n",
    "    model_mouth.save('model_mouth.h5')\n",
    "    end = time.time()\n",
    "    print(\"Training done, took \" + \"{0:.4f}\".format(end - start) + \" seconds.\\n\\n\")\n",
    "    \n",
    "if train_smile:\n",
    "    start = time.time()\n",
    "    history_smile = model_smile.fit(x_train_smile, y_train_smile,\n",
    "                        batch_size=train_batch_size,\n",
    "                        epochs=train_epochs,\n",
    "                        validation_data=(x_test_smile, y_test_smile))\n",
    "    model_smile.evaluate(x_test_smile, y_test_smile, verbose=1)\n",
    "    model_smile.save('model_smile.h5')\n",
    "    end = time.time()\n",
    "    print(\"Training done, took \" + \"{0:.4f}\".format(end - start) + \" seconds.\\n\\n\")\n",
    "    \n",
    "if train_brows:\n",
    "    start = time.time()\n",
    "    history_brows = model_brows.fit(x_train_brows, y_train_brows,\n",
    "                        batch_size=train_batch_size,\n",
    "                        epochs=train_epochs,\n",
    "                        validation_data=(x_test_brows, y_test_brows))\n",
    "    model_brows.evaluate(x_test_brows, y_test_brows, verbose=1)\n",
    "    model_brows.save('model_brows.h5')\n",
    "    end = time.time()\n",
    "    print(\"Training done, took \" + \"{0:.4f}\".format(end - start) + \" seconds.\\n\\n\")\n"
   ]
  },
  {
   "cell_type": "code",
   "execution_count": null,
   "metadata": {},
   "outputs": [],
   "source": [
    "import matplotlib.pyplot as plt\n",
    "\n",
    "# history_brows\n",
    "# history_smile\n",
    "# history_mouth\n",
    "\n",
    "plt.plot(history_brows.history['mean_absolute_error'])\n",
    "plt.plot(history_brows.history['val_mean_absolute_error'])\n",
    "\n",
    "plt.title('model accuracy')\n",
    "plt.ylabel('MAE/Loss')\n",
    "plt.xlabel('epoch')\n",
    "plt.legend(['train_mae', 'test_mae'], loc='upper left')\n",
    "plt.rcParams[\"figure.figsize\"] = [16,9]\n",
    "plt.savefig('smile_mae.png')\n",
    "plt.show()"
   ]
  },
  {
   "cell_type": "markdown",
   "metadata": {},
   "source": [
    "## Try some predictions"
   ]
  },
  {
   "cell_type": "code",
   "execution_count": null,
   "metadata": {},
   "outputs": [],
   "source": [
    "# np.set_printoptions(suppress=True)\n",
    "# print(model.predict(smile.iloc[:, : 468])[0:999])\n",
    "# np.set_printoptions(suppress=False)"
   ]
  }
 ],
 "metadata": {
  "kernelspec": {
   "display_name": "Python 3",
   "language": "python",
   "name": "python3"
  },
  "language_info": {
   "codemirror_mode": {
    "name": "ipython",
    "version": 3
   },
   "file_extension": ".py",
   "mimetype": "text/x-python",
   "name": "python",
   "nbconvert_exporter": "python",
   "pygments_lexer": "ipython3",
   "version": "3.7.4"
  }
 },
 "nbformat": 4,
 "nbformat_minor": 2
}
